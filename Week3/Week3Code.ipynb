{
  "nbformat": 4,
  "nbformat_minor": 0,
  "metadata": {
    "colab": {
      "name": "NumpyWorkshop.ipynb",
      "provenance": []
    },
    "kernelspec": {
      "name": "python3",
      "display_name": "Python 3"
    }
  },
  "cells": [
    {
      "cell_type": "markdown",
      "metadata": {
        "id": "9GUJJ_1F2_os",
        "colab_type": "text"
      },
      "source": [
        "# New Section"
      ]
    },
    {
      "cell_type": "code",
      "metadata": {
        "id": "l82sixw2LdYr",
        "colab_type": "code",
        "colab": {}
      },
      "source": [
        "#Import the libraries\n",
        "import pandas\n",
        "import numpy\n",
        "from collections import OrderedDict\n",
        "from tabulate import tabulate, tabulate_formats\n"
      ],
      "execution_count": null,
      "outputs": []
    },
    {
      "cell_type": "code",
      "metadata": {
        "id": "Rd8el5pt3Y2b",
        "colab_type": "code",
        "colab": {}
      },
      "source": [
        "data = pandas.read_csv('CodebookGap.csv', low_memory=False, \n",
        "            skip_blank_lines=True, usecols=['country','incomeperperson', 'alcconsumption', 'lifeexpectancy'])"
      ],
      "execution_count": null,
      "outputs": []
    },
    {
      "cell_type": "code",
      "metadata": {
        "id": "90srJVFY3c9x",
        "colab_type": "code",
        "colab": {
          "base_uri": "https://localhost:8080/",
          "height": 202
        },
        "outputId": "9acec1c3-9465-4040-b434-e74beb5df106"
      },
      "source": [
        "data.columns=['country', 'income', 'alcohol', 'life']\n",
        "'''\n",
        "# Variables Descriptions\n",
        "alcohol = \"2008 alcohol consumption per adult (liters, age 15+)\"\n",
        "income = \"2010 Gross Domestic Product per capita in constant 2000 US$\"\n",
        "life = \"2011 life expectancy at birth (years)\"'''\n",
        "data.info()"
      ],
      "execution_count": null,
      "outputs": [
        {
          "output_type": "stream",
          "text": [
            "<class 'pandas.core.frame.DataFrame'>\n",
            "RangeIndex: 213 entries, 0 to 212\n",
            "Data columns (total 4 columns):\n",
            " #   Column   Non-Null Count  Dtype \n",
            "---  ------   --------------  ----- \n",
            " 0   country  213 non-null    object\n",
            " 1   income   213 non-null    object\n",
            " 2   alcohol  213 non-null    object\n",
            " 3   life     213 non-null    object\n",
            "dtypes: object(4)\n",
            "memory usage: 6.8+ KB\n"
          ],
          "name": "stdout"
        }
      ]
    },
    {
      "cell_type": "code",
      "metadata": {
        "id": "wukGyUEW3nFR",
        "colab_type": "code",
        "colab": {
          "base_uri": "https://localhost:8080/",
          "height": 202
        },
        "outputId": "4c47299d-aead-499d-d8a1-bd13c9099c8e"
      },
      "source": [
        "for dt in ('income','alcohol','life') :\n",
        "    data[dt] = pandas.to_numeric(data[dt], errors='coerce')\n",
        "data.info()"
      ],
      "execution_count": null,
      "outputs": [
        {
          "output_type": "stream",
          "text": [
            "<class 'pandas.core.frame.DataFrame'>\n",
            "RangeIndex: 213 entries, 0 to 212\n",
            "Data columns (total 4 columns):\n",
            " #   Column   Non-Null Count  Dtype  \n",
            "---  ------   --------------  -----  \n",
            " 0   country  213 non-null    object \n",
            " 1   income   190 non-null    float64\n",
            " 2   alcohol  187 non-null    float64\n",
            " 3   life     191 non-null    float64\n",
            "dtypes: float64(3), object(1)\n",
            "memory usage: 6.8+ KB\n"
          ],
          "name": "stdout"
        }
      ]
    },
    {
      "cell_type": "code",
      "metadata": {
        "id": "D0ZvaSoV3s8F",
        "colab_type": "code",
        "colab": {
          "base_uri": "https://localhost:8080/",
          "height": 739
        },
        "outputId": "e1c9d82d-27f4-4544-c841-015a54ceffc4"
      },
      "source": [
        "nullLabels =data[data.country.isnull() | data.income.isnull() | data.alcohol.isnull() | data.life.isnull()]\n",
        "print(nullLabels)"
      ],
      "execution_count": null,
      "outputs": [
        {
          "output_type": "stream",
          "text": [
            "                   country         income  alcohol    life\n",
            "0              Afghanistan            NaN     0.03  48.673\n",
            "3                  Andorra   21943.339898    10.17     NaN\n",
            "5      Antigua and Barbuda   11894.464075     8.17     NaN\n",
            "8                    Aruba            NaN      NaN  75.246\n",
            "20                 Bermuda   62682.147006      NaN     NaN\n",
            "34          Cayman Islands            NaN      NaN     NaN\n",
            "43            Cook Islands            NaN     3.23     NaN\n",
            "52                Dominica    6147.779610     8.68     NaN\n",
            "61          Faeroe Islands            NaN      NaN     NaN\n",
            "65        French Polynesia            NaN      NaN  75.133\n",
            "71               Gibraltar            NaN      NaN     NaN\n",
            "73               Greenland   20751.893424      NaN     NaN\n",
            "75              Guadeloupe            NaN      NaN  79.839\n",
            "76                    Guam            NaN      NaN  76.142\n",
            "83        Hong Kong, China   35536.072471      NaN  82.759\n",
            "98                Kiribati     760.262365     2.70     NaN\n",
            "99        Korea, Dem. Rep.            NaN      NaN  68.846\n",
            "101                 Kuwait            NaN     0.10  74.576\n",
            "109          Liechtenstein   81647.100031      NaN     NaN\n",
            "112           Macao, China   33923.313868      NaN  80.934\n",
            "117               Maldives    4038.857818      NaN  76.848\n",
            "120       Marshall Islands    2437.282445      NaN     NaN\n",
            "121             Martinique            NaN      NaN  80.499\n",
            "127                 Monaco  105147.437697      NaN     NaN\n",
            "129             Montenegro    2222.335052      NaN  74.573\n",
            "132                Myanmar            NaN     0.58  65.193\n",
            "134                  Nauru            NaN     4.81     NaN\n",
            "137   Netherlands Antilles            NaN      NaN  76.652\n",
            "138          New Caledonia            NaN      NaN  76.521\n",
            "143                   Niue            NaN     8.69     NaN\n",
            "147                  Palau    6243.571318     9.86     NaN\n",
            "155            Puerto Rico   15822.112141      NaN  79.158\n",
            "157                Reunion            NaN      NaN  77.653\n",
            "161  Saint Kitts and Nevis    9175.796015    10.62     NaN\n",
            "165             San Marino   31993.200694      NaN     NaN\n",
            "166  Sao Tome and Principe            NaN     8.45  64.666\n",
            "170  Serbia and Montenegro            NaN      NaN     NaN\n",
            "171             Seychelles    8614.120219    12.11     NaN\n",
            "177                Somalia            NaN     0.50  51.219\n",
            "187                 Taiwan            NaN      NaN     NaN\n",
            "198                 Tuvalu    1714.942890     2.14     NaN\n",
            "209     West Bank and Gaza            NaN      NaN  72.832\n"
          ],
          "name": "stdout"
        }
      ]
    },
    {
      "cell_type": "code",
      "metadata": {
        "id": "f6ckNnm44hCK",
        "colab_type": "code",
        "colab": {
          "base_uri": "https://localhost:8080/",
          "height": 218
        },
        "outputId": "7fa4ac35-b6ab-4434-cc8f-8d78cfdb3b64"
      },
      "source": [
        "data = data.dropna(axis=0, how='any')\n",
        "print (data.info())"
      ],
      "execution_count": null,
      "outputs": [
        {
          "output_type": "stream",
          "text": [
            "<class 'pandas.core.frame.DataFrame'>\n",
            "Int64Index: 171 entries, 1 to 212\n",
            "Data columns (total 4 columns):\n",
            " #   Column   Non-Null Count  Dtype  \n",
            "---  ------   --------------  -----  \n",
            " 0   country  171 non-null    object \n",
            " 1   income   171 non-null    float64\n",
            " 2   alcohol  171 non-null    float64\n",
            " 3   life     171 non-null    float64\n",
            "dtypes: float64(3), object(1)\n",
            "memory usage: 6.7+ KB\n",
            "None\n"
          ],
          "name": "stdout"
        }
      ]
    },
    {
      "cell_type": "code",
      "metadata": {
        "id": "x91-RaDp4_0p",
        "colab_type": "code",
        "colab": {}
      },
      "source": [
        "c2 = data['income'].value_counts(sort=False)\n",
        "p2 = data['income'].value_counts(sort=False, normalize=True)\n",
        "\n",
        "c3 = data['alcohol'].value_counts(sort=False)\n",
        "p3 = data['alcohol'].value_counts(sort=False, normalize=True)\n",
        "\n",
        "c4 = data['life'].value_counts(sort=False)\n",
        "p4 = data['life'].value_counts(sort=False, normalize=True)\n"
      ],
      "execution_count": null,
      "outputs": []
    },
    {
      "cell_type": "code",
      "metadata": {
        "id": "g3igzfYY8KnJ",
        "colab_type": "code",
        "colab": {
          "base_uri": "https://localhost:8080/",
          "height": 1000
        },
        "outputId": "03299dc1-50a1-4a97-a62d-80b1dfa97603"
      },
      "source": [
        "print(\"****************************************************\")\n",
        "print(\"*************Absolute Frequency********************\") \n",
        "print(\"Income Per Person:\")\n",
        "print(\"Income         Freq\")\n",
        "print(c2)\n",
        "print(\"Alcohol Consumption:\")\n",
        "print(\"Alcohol  Freq\")\n",
        "print(c3)\n",
        "print(\"Life Expecectancy:\")\n",
        "print(\"Life      Freq\")\n",
        "print(c4)\n",
        "\n",
        "print(\"****************************************************\")\n",
        "print(\"*************Relative Frequency********************\") \n",
        "print(\"Income Per Person:\")\n",
        "print(\"Income          Freq\")\n",
        "print(p2)\n",
        "print(\"Alcohol Consumption:\")\n",
        "print(\"Alcohol  Freq\")\n",
        "print(p3)\n",
        "print(\"Life Expecectancy:\")\n",
        "print(\"Life      Freq\")\n",
        "print(p4)"
      ],
      "execution_count": null,
      "outputs": [
        {
          "output_type": "stream",
          "text": [
            "****************************************************\n",
            "*************Absolute Frequency********************\n",
            "Income Per Person:\n",
            "Income         Freq\n",
            "5188.900935     1\n",
            "39972.352768    1\n",
            "279.180453      1\n",
            "161.317137      1\n",
            "11744.834167    1\n",
            "               ..\n",
            "377.421113      1\n",
            "2344.896916     1\n",
            "25306.187193    1\n",
            "4180.765821     1\n",
            "25575.352623    1\n",
            "Name: income, Length: 171, dtype: int64\n",
            "Alcohol Consumption:\n",
            "Alcohol  Freq\n",
            "15.00    1\n",
            "5.25     1\n",
            "3.99     1\n",
            "9.75     1\n",
            "9.50     1\n",
            "        ..\n",
            "16.30    1\n",
            "4.96     1\n",
            "0.32     1\n",
            "9.48     1\n",
            "14.94    1\n",
            "Name: alcohol, Length: 165, dtype: int64\n",
            "Life Expecectancy:\n",
            "Life      Freq\n",
            "63.125    1\n",
            "79.591    1\n",
            "68.795    1\n",
            "74.414    1\n",
            "79.977    1\n",
            "         ..\n",
            "57.937    1\n",
            "73.126    1\n",
            "75.956    1\n",
            "57.379    1\n",
            "50.239    1\n",
            "Name: life, Length: 169, dtype: int64\n",
            "****************************************************\n",
            "*************Relative Frequency********************\n",
            "Income Per Person:\n",
            "Income          Freq\n",
            "5188.900935     0.005848\n",
            "39972.352768    0.005848\n",
            "279.180453      0.005848\n",
            "161.317137      0.005848\n",
            "11744.834167    0.005848\n",
            "                  ...   \n",
            "377.421113      0.005848\n",
            "2344.896916     0.005848\n",
            "25306.187193    0.005848\n",
            "4180.765821     0.005848\n",
            "25575.352623    0.005848\n",
            "Name: income, Length: 171, dtype: float64\n",
            "Alcohol Consumption:\n",
            "Alcohol  Freq\n",
            "15.00    0.005848\n",
            "5.25     0.005848\n",
            "3.99     0.005848\n",
            "9.75     0.005848\n",
            "9.50     0.005848\n",
            "           ...   \n",
            "16.30    0.005848\n",
            "4.96     0.005848\n",
            "0.32     0.005848\n",
            "9.48     0.005848\n",
            "14.94    0.005848\n",
            "Name: alcohol, Length: 165, dtype: float64\n",
            "Life Expecectancy:\n",
            "Life      Freq\n",
            "63.125    0.005848\n",
            "79.591    0.005848\n",
            "68.795    0.005848\n",
            "74.414    0.005848\n",
            "79.977    0.005848\n",
            "            ...   \n",
            "57.937    0.005848\n",
            "73.126    0.005848\n",
            "75.956    0.005848\n",
            "57.379    0.005848\n",
            "50.239    0.005848\n",
            "Name: life, Length: 169, dtype: float64\n"
          ],
          "name": "stdout"
        }
      ]
    },
    {
      "cell_type": "code",
      "metadata": {
        "id": "g5kOU3mG8b2h",
        "colab_type": "code",
        "colab": {
          "base_uri": "https://localhost:8080/",
          "height": 638
        },
        "outputId": "00de1d7e-d3f1-4bfb-abb4-572c14cb0e8d"
      },
      "source": [
        "minMax = OrderedDict()\n",
        "dict1 = OrderedDict()\n",
        "\n",
        "dict1['min'] = data.life.min()\n",
        "dict1['max'] = data.life.max()\n",
        "minMax['life'] = dict1\n",
        "\n",
        "dict2 = OrderedDict()\n",
        "dict2['min'] = data.income.min()\n",
        "dict2['max'] = data.income.max()\n",
        "minMax['income'] = dict2\n",
        "\n",
        "dict3 = OrderedDict()\n",
        "dict3['min'] = data.alcohol.min()\n",
        "dict3['max'] = data.alcohol.max()\n",
        "minMax['alcohol'] = dict3\n",
        "\n",
        "df = pandas.DataFrame([minMax['income'],minMax['life'],minMax['alcohol']], index = ['Income','Life','Alcohol'])\n",
        "print (df.sort_index(axis=1, ascending=False))\n",
        "\n",
        "dummyData = data.copy()\n",
        " # Maps\n",
        "income_map = {1: '>=100  <5k', 2: '>=5k <10k', 3: '>=10k <20k',\n",
        "               4: '>=20K <30K', 5: '>=30K <40K', 6: '>=40K <50K' }\n",
        "life_map = {1: '>=40 <50', 2: '>=50 <60', 3: '>=60 <70', 4: '>=70 <80', 5: '>=80 <90'}\n",
        "alcohol_map = {1: '>=0.5 <5', 2: '>=5 <10', 3: '>=10 <15', 4: '>=15 <20', 5: '>=20 <25'}\n",
        "\n",
        "dummyData['income'] = pandas.cut(data.income,[100,5000,10000,20000,30000,40000,50000], labels=['1','2','3','4','5','6'])\n",
        "print(dummyData.head(10))\n",
        "\n",
        "dummyData['life'] = pandas.cut(data.life,[40,50,60,70,80,90], labels=['1','2','3','4','5'])\n",
        "print(dummyData.head(10))\n",
        "\n",
        "dummyData['alcohol'] = pandas.cut(data.alcohol,[0.5,5,10,15,20,25], labels=['1','2','3','4','5'])\n",
        "print (dummyData.head(10))\n"
      ],
      "execution_count": null,
      "outputs": [
        {
          "output_type": "stream",
          "text": [
            "                min           max\n",
            "Income   103.775857  52301.587179\n",
            "Life      47.794000     83.394000\n",
            "Alcohol    0.050000     23.010000\n",
            "       country income  alcohol    life\n",
            "1      Albania      1     7.29  76.918\n",
            "2      Algeria      1     0.69  73.131\n",
            "4       Angola      1     5.57  51.093\n",
            "6    Argentina      3     9.35  75.901\n",
            "7      Armenia      1    13.66  74.241\n",
            "9    Australia      4    10.21  81.907\n",
            "10     Austria      4    12.40  80.854\n",
            "11  Azerbaijan      1    13.34  70.739\n",
            "12     Bahamas      3     8.65  75.620\n",
            "13     Bahrain      3     4.19  75.057\n",
            "       country income  alcohol life\n",
            "1      Albania      1     7.29    4\n",
            "2      Algeria      1     0.69    4\n",
            "4       Angola      1     5.57    2\n",
            "6    Argentina      3     9.35    4\n",
            "7      Armenia      1    13.66    4\n",
            "9    Australia      4    10.21    5\n",
            "10     Austria      4    12.40    5\n",
            "11  Azerbaijan      1    13.34    4\n",
            "12     Bahamas      3     8.65    4\n",
            "13     Bahrain      3     4.19    4\n",
            "       country income alcohol life\n",
            "1      Albania      1       2    4\n",
            "2      Algeria      1       1    4\n",
            "4       Angola      1       2    2\n",
            "6    Argentina      3       2    4\n",
            "7      Armenia      1       3    4\n",
            "9    Australia      4       3    5\n",
            "10     Austria      4       3    5\n",
            "11  Azerbaijan      1       3    4\n",
            "12     Bahamas      3       2    4\n",
            "13     Bahrain      3       1    4\n"
          ],
          "name": "stdout"
        }
      ]
    },
    {
      "cell_type": "code",
      "metadata": {
        "id": "xD_0136cr5lP",
        "colab_type": "code",
        "colab": {}
      },
      "source": [
        "c2 = dummyData['income'].value_counts(sort=False)\n",
        "p2 = dummyData['income'].value_counts(sort=False, normalize=True)\n",
        "\n",
        "c3 = dummyData['alcohol'].value_counts(sort=False)\n",
        "p3 = dummyData['alcohol'].value_counts(sort=False, normalize=True)\n",
        "\n",
        "c4 = dummyData['life'].value_counts(sort=False)\n",
        "p4 = dummyData['life'].value_counts(sort=False, normalize=True)\n"
      ],
      "execution_count": null,
      "outputs": []
    },
    {
      "cell_type": "code",
      "metadata": {
        "id": "63X7zbYat7mQ",
        "colab_type": "code",
        "colab": {
          "base_uri": "https://localhost:8080/",
          "height": 924
        },
        "outputId": "70e65313-36b8-45d5-86c9-c3f65569212d"
      },
      "source": [
        "print(\"****************************************************\")\n",
        "print(\"*************Absolute Frequency********************\") \n",
        "print(\"Income Per Person:\")\n",
        "print(\"Income-Freq\")\n",
        "print(c2)\n",
        "print(\"Alcohol Consumption:\")\n",
        "print(\"Alcohol-Freq\")\n",
        "print(c3)\n",
        "print(\"Life Expecectancy:\")\n",
        "print(\"Life-Freq\")\n",
        "print(c4)\n",
        "\n",
        "print(\"****************************************************\")\n",
        "print(\"*************Relative Frequency********************\") \n",
        "print(\"Income Per Person:\")\n",
        "print(\"Income- Freq\")\n",
        "print(p2)\n",
        "print(\"Alcohol Consumption:\")\n",
        "print(\"Alcohol-Freq\")\n",
        "print(p3)\n",
        "print(\"Life Expecectancy:\")\n",
        "print(\"Life-Freq\")\n",
        "print(p4)"
      ],
      "execution_count": null,
      "outputs": [
        {
          "output_type": "stream",
          "text": [
            "****************************************************\n",
            "*************Absolute Frequency********************\n",
            "Income Per Person:\n",
            "Income-Freq\n",
            "1    110\n",
            "2     24\n",
            "3     15\n",
            "4     12\n",
            "5      9\n",
            "6      0\n",
            "Name: income, dtype: int64\n",
            "Alcohol Consumption:\n",
            "Alcohol-Freq\n",
            "1    63\n",
            "2    56\n",
            "3    31\n",
            "4    10\n",
            "5     1\n",
            "Name: alcohol, dtype: int64\n",
            "Life Expecectancy:\n",
            "Life-Freq\n",
            "1     8\n",
            "2    28\n",
            "3    35\n",
            "4    80\n",
            "5    20\n",
            "Name: life, dtype: int64\n",
            "****************************************************\n",
            "*************Relative Frequency********************\n",
            "Income Per Person:\n",
            "Income- Freq\n",
            "1    0.647059\n",
            "2    0.141176\n",
            "3    0.088235\n",
            "4    0.070588\n",
            "5    0.052941\n",
            "6    0.000000\n",
            "Name: income, dtype: float64\n",
            "Alcohol Consumption:\n",
            "Alcohol-Freq\n",
            "1    0.391304\n",
            "2    0.347826\n",
            "3    0.192547\n",
            "4    0.062112\n",
            "5    0.006211\n",
            "Name: alcohol, dtype: float64\n",
            "Life Expecectancy:\n",
            "Life-Freq\n",
            "1    0.046784\n",
            "2    0.163743\n",
            "3    0.204678\n",
            "4    0.467836\n",
            "5    0.116959\n",
            "Name: life, dtype: float64\n"
          ],
          "name": "stdout"
        }
      ]
    },
    {
      "cell_type": "code",
      "metadata": {
        "id": "fhwL1EcRt_oh",
        "colab_type": "code",
        "colab": {}
      },
      "source": [
        ""
      ],
      "execution_count": null,
      "outputs": []
    }
  ]
}